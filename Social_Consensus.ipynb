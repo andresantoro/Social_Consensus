{
 "cells": [
  {
   "cell_type": "markdown",
   "metadata": {},
   "source": [
    "## Creating the network structure"
   ]
  },
  {
   "cell_type": "code",
   "execution_count": 1,
   "metadata": {},
   "outputs": [
    {
     "name": "stdout",
     "output_type": "stream",
     "text": [
      "{0: [6, 4, 8, 3, 2, 5, 1, 9, 7], 6: [0, 1, 2, 3, 4, 5, 9, 7], 4: [0, 1, 2, 3, 5, 8, 6, 7], 8: [0, 1, 2, 4, 5, 7, 9], 3: [0, 1, 5, 9, 7, 6, 4], 2: [0, 1, 8, 5, 4, 6, 7, 9], 5: [0, 1, 2, 3, 4, 6, 9, 7, 8], 1: [0, 5, 3, 6, 7, 8, 9, 2, 4], 9: [0, 1, 2, 3, 5, 6, 8], 7: [0, 1, 2, 3, 4, 5, 6, 8]}\n"
     ]
    }
   ],
   "source": [
    "#Packages\n",
    "import numpy as np\n",
    "import networkx as nx\n",
    "from matplotlib import pyplot\n",
    "import json\n",
    "\n",
    "\n",
    "#Function that converts a graph in networkx format into a dictionary (nodes, first_neighbours)\n",
    "def graph_to_dict(G):\n",
    "    graph=dict()\n",
    "    for i in G.edges:\n",
    "        node_i = i[0]\n",
    "        node_j = i[1]\n",
    "        #Scanning over the edges and inserting the links in the dictionary\n",
    "        if node_i not in graph:\n",
    "            graph[node_i]=[node_j]\n",
    "        else:\n",
    "            graph[node_i].append(node_j)\n",
    "        if node_j not in graph:\n",
    "            graph[node_j]=[node_i]\n",
    "        else:\n",
    "            graph[node_j].append(node_i)        \n",
    "    return graph\n",
    "\n",
    "#Function that computes the degree distribution of a graph [input should be a dictionary]\n",
    "def compute_degree_distribution(graph):\n",
    "    dgr=np.zeros(max(max(graph.keys()),len(graph.keys())))\n",
    "    for i in graph.keys():\n",
    "        dgr[i-1]= len(graph[i])\n",
    "    pyplot.hist(dgr,density=True)\n",
    "\n",
    "#Function that prints the graph structure into a file [.json format] \"filename\"\n",
    "def print_network_onfile(graph,filename):\n",
    "    with open(filename, 'w+') as fp:\n",
    "        json.dump(graph, fp)\n",
    "        \n",
    "#Function that loads the graph structure from the file \"filename\" into a dictionary\n",
    "#with the format: [key:nodes,values:first_neighbours]\n",
    "def load_network_fromfile(filename):\n",
    "    json_data=open(filename).read()\n",
    "    graph=json.loads(json_data)\n",
    "    graph={int(k):[int(i) for i in v] for k,v in graph.items()}\n",
    "    return(graph)\n",
    "\n",
    "\n",
    "#<k> = 2*K/N -> Remember that the network should be fully connected for the case of ER random graphs\n",
    "N = 10 # nodes\n",
    "K = 40 # edges\n",
    "m = 3    # number of stubs for the Barabasi-Albert random graph\n",
    "\n",
    "#Creating an ER random graphs with N number of nodes and K number of edges\n",
    "G = nx.gnm_random_graph(N, K)\n",
    "\n",
    "#Creating a Barabasi-Albert \n",
    "#G=nx.barabasi_albert_graph(N,m) with m stubs on each step\n",
    "\n",
    "#Creating the dictionary structure from the graph G\n",
    "graph_structure = graph_to_dict(G)\n",
    "\n",
    "#Computing the degree distribution from the dictionary structure of a graph\n",
    "compute_degree_distribution(graph_structure)\n",
    "\n",
    "#Printing the network on a file\n",
    "#print_network_onfile(graph_structure)\n",
    "\n",
    "#Loading the network as a dictionary structure from a file\n",
    "#graph_structure=load_network_fromfile(\"result.json\")\n",
    "\n",
    "print(graph_structure)\n"
   ]
  },
  {
   "cell_type": "code",
   "execution_count": null,
   "metadata": {},
   "outputs": [],
   "source": []
  },
  {
   "cell_type": "code",
   "execution_count": null,
   "metadata": {},
   "outputs": [],
   "source": []
  }
 ],
 "metadata": {
  "kernelspec": {
   "display_name": "Python 3",
   "language": "python",
   "name": "python3"
  },
  "language_info": {
   "codemirror_mode": {
    "name": "ipython",
    "version": 3
   },
   "file_extension": ".py",
   "mimetype": "text/x-python",
   "name": "python",
   "nbconvert_exporter": "python",
   "pygments_lexer": "ipython3",
   "version": "3.6.5"
  }
 },
 "nbformat": 4,
 "nbformat_minor": 2
}
